{
 "cells": [
  {
   "cell_type": "markdown",
   "metadata": {},
   "source": [
    "## Flex Dataflow Template Runner\n",
    "\n",
    "This notebook consists of - \n",
    "- How to create flex template via \n",
    "- How to run dataflow flex template via GCLOUD CLI "
   ]
  },
  {
   "cell_type": "markdown",
   "metadata": {},
   "source": [
    "#### Create a Cloud Storage bucket"
   ]
  },
  {
   "cell_type": "code",
   "execution_count": null,
   "metadata": {},
   "outputs": [],
   "source": [
    "export BUCKET=\"your-bucket\"\n",
    "gsutil mb gs://$BUCKET"
   ]
  },
  {
   "cell_type": "markdown",
   "metadata": {},
   "source": [
    "#### Create an Artifact Registry Repository\n",
    "\n",
    "Create an Artifact Registry repository where you will push the Docker container image for the template.\n",
    "\n",
    "Use the `gcloud artifacts repositories create` command to create a new Artifact Registry repository.\n",
    "\n",
    "Replace the following:\n",
    "- `REPOSITORY`: a name for your repository. Repository names must be unique for each repository location in a project.\n",
    "- `LOCATION`: the regional or multi-regional location for the repository.\n"
   ]
  },
  {
   "cell_type": "code",
   "execution_count": null,
   "metadata": {},
   "outputs": [],
   "source": [
    "REPOSITORY = 'your_repsitory_name'\n",
    "REGION = 'us-central1'\n",
    "PROJECT = 'your_gcp_project"
   ]
  },
  {
   "cell_type": "code",
   "execution_count": null,
   "metadata": {},
   "outputs": [],
   "source": [
    "export REGION=\"us-central1\"\n",
    "export REPOSITORY=\"your-repository\"\n",
    "\n",
    "! gcloud artifacts repositories create $REPOSITORY \\\n",
    "    --repository-format=docker \\\n",
    "    --location=$REGION"
   ]
  },
  {
   "cell_type": "markdown",
   "metadata": {},
   "source": [
    "#### Configure Docker \n",
    "\n",
    "Use the `gcloud auth configure-docker` command to configure Docker to authenticate requests for Artifact Registry.\n",
    "\n",
    "This command updates your `Docker Configuration`, so that you can connect with Artifact Registry to push images.\n",
    "\n",
    "**Flex Templates** can also use images stored in private registries. For more information, see Use an image from a private registry.\n",
    "https://cloud.google.com/dataflow/docs/guides/templates/configuring-flex-templates#use_an_image_from_a_private_registry"
   ]
  },
  {
   "cell_type": "code",
   "execution_count": null,
   "metadata": {},
   "outputs": [],
   "source": [
    "! gcloud auth configure-docker $REGION-docker.pkg.dev"
   ]
  },
  {
   "cell_type": "markdown",
   "metadata": {},
   "source": [
    "#### Build the Flex Template\n",
    "In this step, you use the gcloud dataflow flex-template build command to build the Flex Template.\n",
    "\n",
    "**A Flex Template consists of the following components:**\n",
    "\n",
    "- A Docker container image that packages your pipeline code. For Java and Python Flex Templates, the Docker image is built and pushed to your Artifact Registry repository when you run the `gcloud dataflow flex-template build` command.\n",
    "\n",
    "-  A template specification file. This file is a JSON document that contains the location of the container image plus metadata about the template, such as pipeline parameters."
   ]
  },
  {
   "cell_type": "code",
   "execution_count": null,
   "metadata": {},
   "outputs": [],
   "source": [
    "! gcloud dataflow flex-template build gs://BUCKET_NAME/flex-template-py.json \\\n",
    "--image-gcr-path f\"{REGION}-docker.pkg.dev/{PROJECT}/{REPOSITORY}/flex-python:latest\" \\\n",
    "--sdk-language \"PYTHON\" \\\n",
    "--flex-template-base-image \"PYTHON3\" \\\n",
    "--metadata-file \"metadata.json\" \\\n",
    "--py-path \".\" \\\n",
    "--env \"FLEX_TEMPLATE_PYTHON_PY_FILE=flex_python.py\" \\\n",
    "--env \"FLEX_TEMPLATE_PYTHON_REQUIREMENTS_FILE=requirements.txt\" \\\n",
    "--service-account-email gcp_service_account_name"
   ]
  },
  {
   "cell_type": "markdown",
   "metadata": {},
   "source": [
    "#### Run The Flex Template \n",
    "In this step, we use the flex template to run a dataflow job.\n",
    "Use the `gcloud dataflow flex-template run` command to run a Dataflow job that uses the Flex Template.\n",
    "\n",
    "Replace the following:\n",
    "\n",
    "- `BUCKET_NAME`: the name of the Cloud Storage bucket that you created earlier\n",
    "- `REGION`: the region\n",
    "To view the status of the Dataflow job in the Google Cloud console, go to the Dataflow Jobs page."
   ]
  },
  {
   "cell_type": "code",
   "execution_count": null,
   "metadata": {},
   "outputs": [],
   "source": [
    "gcloud dataflow flex-template run \"flex-job-`date +%Y%m%d-%H%M%S`\" \\\n",
    "--template-file-gcs-location \"gs://BUCKET_NAME/flex-template-py.json\" \\\n",
    "--parameters output=\"gs://BUCKET_NAME/output-\" \\\n",
    "--region \"REGION\" \\\n",
    "--service-account-email gcp_service_account_name \\\n",
    "--staging_location gs://your_staging_bucket_location/ \\\n",
    "--subnetwork your_full_subnetwork_uri \\\n",
    "--num-workers 4 \\\n",
    "--max-workers 8 \\\n",
    "--disable-public-ips \\\n",
    "--worker-region us-central1 \\\n",
    "--worker-machine-type c2-standard-8 \\\n",
    "--parameters output='gs://your_bucket/output/'\n"
   ]
  },
  {
   "cell_type": "code",
   "execution_count": null,
   "metadata": {},
   "outputs": [],
   "source": []
  },
  {
   "cell_type": "code",
   "execution_count": null,
   "metadata": {},
   "outputs": [],
   "source": []
  }
 ],
 "metadata": {
  "language_info": {
   "name": "python"
  }
 },
 "nbformat": 4,
 "nbformat_minor": 2
}
